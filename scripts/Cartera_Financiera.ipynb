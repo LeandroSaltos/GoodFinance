{
 "cells": [
  {
   "cell_type": "markdown",
   "id": "2b04028a-6e35-4082-ba78-bfb592a0e300",
   "metadata": {},
   "source": [
    "# CONSTRUCCION DE CARTERA FINANCIERA"
   ]
  },
  {
   "cell_type": "markdown",
   "id": "de4e5d51-907e-4b4c-8d66-65dccb18a39b",
   "metadata": {},
   "source": [
    "### LIBRERIAS"
   ]
  },
  {
   "cell_type": "code",
   "execution_count": 20,
   "id": "09b8ea60-f4a7-449a-a4d1-3efe27158374",
   "metadata": {},
   "outputs": [],
   "source": [
    "import numpy as np\n",
    "import pandas as pd\n",
    "import matplotlib.pyplot as plt"
   ]
  },
  {
   "cell_type": "markdown",
   "id": "254651e6-a3b6-4705-a139-fa4f4b2bcb37",
   "metadata": {},
   "source": [
    "### LECTURA DE BASE DE DATOS"
   ]
  },
  {
   "cell_type": "code",
   "execution_count": 37,
   "id": "eea3d329-ae63-4b89-9977-771d1e509bb9",
   "metadata": {},
   "outputs": [],
   "source": [
    "data_route='../data/'"
   ]
  },
  {
   "cell_type": "code",
   "execution_count": 38,
   "id": "2cc7fe05-41bd-45d8-86d2-2d06a1cd9006",
   "metadata": {},
   "outputs": [],
   "source": [
    "expenses_filename='expenses.csv'\n",
    "incomes_filename='incomes.csv'"
   ]
  },
  {
   "cell_type": "code",
   "execution_count": 39,
   "id": "6006ecd8-ef52-4529-9e72-1841f5605af4",
   "metadata": {},
   "outputs": [],
   "source": [
    "expenses=pd.read_csv(data_route+expenses_filename)\n",
    "incomes=pd.read_csv(data_route+incomes_filename)"
   ]
  },
  {
   "cell_type": "code",
   "execution_count": 40,
   "id": "c29082a7-cf4d-458a-b082-fc00dd86e7a9",
   "metadata": {},
   "outputs": [
    {
     "data": {
      "text/html": [
       "<div>\n",
       "<style scoped>\n",
       "    .dataframe tbody tr th:only-of-type {\n",
       "        vertical-align: middle;\n",
       "    }\n",
       "\n",
       "    .dataframe tbody tr th {\n",
       "        vertical-align: top;\n",
       "    }\n",
       "\n",
       "    .dataframe thead th {\n",
       "        text-align: right;\n",
       "    }\n",
       "</style>\n",
       "<table border=\"1\" class=\"dataframe\">\n",
       "  <thead>\n",
       "    <tr style=\"text-align: right;\">\n",
       "      <th></th>\n",
       "      <th>DATE</th>\n",
       "      <th>AMOUNT</th>\n",
       "      <th>CATEGORY</th>\n",
       "      <th>THIRD-PARTY</th>\n",
       "      <th>DESCRIPTION</th>\n",
       "    </tr>\n",
       "  </thead>\n",
       "  <tbody>\n",
       "    <tr>\n",
       "      <th>0</th>\n",
       "      <td>4-10-2022</td>\n",
       "      <td>1200</td>\n",
       "      <td>variable</td>\n",
       "      <td>GAD-AA</td>\n",
       "      <td>sueldo</td>\n",
       "    </tr>\n",
       "  </tbody>\n",
       "</table>\n",
       "</div>"
      ],
      "text/plain": [
       "        DATE  AMOUNT  CATEGORY THIRD-PARTY DESCRIPTION\n",
       "0  4-10-2022    1200  variable      GAD-AA      sueldo"
      ]
     },
     "execution_count": 40,
     "metadata": {},
     "output_type": "execute_result"
    }
   ],
   "source": [
    "incomes"
   ]
  },
  {
   "cell_type": "code",
   "execution_count": 41,
   "id": "d2bbcebd-d90e-4609-a176-2a33bedfceb2",
   "metadata": {},
   "outputs": [
    {
     "data": {
      "text/plain": [
       "Index(['DATE', 'AMOUNT', 'CATEGORY', 'THIRD-PARTY', 'DESCRIPTION'], dtype='object')"
      ]
     },
     "execution_count": 41,
     "metadata": {},
     "output_type": "execute_result"
    }
   ],
   "source": [
    "incomes.columns"
   ]
  },
  {
   "cell_type": "markdown",
   "id": "3159ee29-790c-42c2-afc2-5cd36488dd67",
   "metadata": {},
   "source": [
    "#### Muestra las columnas que tiene el csv "
   ]
  },
  {
   "cell_type": "code",
   "execution_count": 45,
   "id": "bd275319-6d2d-48cf-a324-dbe7df896bf6",
   "metadata": {},
   "outputs": [
    {
     "data": {
      "text/plain": [
       "0    4-10-2022\n",
       "Name: DATE, dtype: object"
      ]
     },
     "execution_count": 45,
     "metadata": {},
     "output_type": "execute_result"
    }
   ],
   "source": [
    "incomes[\"DATE\"]"
   ]
  },
  {
   "cell_type": "markdown",
   "id": "28d77242-deba-48b5-bf3d-236b86313a45",
   "metadata": {},
   "source": [
    "#### Muestra la localizacion de algun dato en especial"
   ]
  },
  {
   "cell_type": "code",
   "execution_count": 47,
   "id": "16640c24-c635-4b0f-9b28-a517ac759333",
   "metadata": {},
   "outputs": [
    {
     "data": {
      "text/plain": [
       "'sueldo'"
      ]
     },
     "execution_count": 47,
     "metadata": {},
     "output_type": "execute_result"
    }
   ],
   "source": [
    "incomes.loc[0][\"DESCRIPTION\"]"
   ]
  },
  {
   "cell_type": "markdown",
   "id": "a1a03fda-696d-4d19-83ef-80c45a137350",
   "metadata": {},
   "source": [
    "#### Agrega una nueva fila al csv"
   ]
  },
  {
   "cell_type": "code",
   "execution_count": 50,
   "id": "d6380029-115c-4d75-8d42-22c0930ea2f2",
   "metadata": {},
   "outputs": [
    {
     "name": "stdout",
     "output_type": "stream",
     "text": [
      "1\n"
     ]
    }
   ],
   "source": [
    "n=len(incomes)\n",
    "print(n)"
   ]
  },
  {
   "cell_type": "code",
   "execution_count": 51,
   "id": "f664e591-c152-400a-a274-088c12c1d7b4",
   "metadata": {},
   "outputs": [],
   "source": [
    "incomes.loc[n]=['04-10-2022',1500,'variable','GAD-COT','Pago de trabajo']"
   ]
  },
  {
   "cell_type": "code",
   "execution_count": 52,
   "id": "85654bf1-0684-49a5-bf3d-f22c58496ba4",
   "metadata": {},
   "outputs": [
    {
     "data": {
      "text/html": [
       "<div>\n",
       "<style scoped>\n",
       "    .dataframe tbody tr th:only-of-type {\n",
       "        vertical-align: middle;\n",
       "    }\n",
       "\n",
       "    .dataframe tbody tr th {\n",
       "        vertical-align: top;\n",
       "    }\n",
       "\n",
       "    .dataframe thead th {\n",
       "        text-align: right;\n",
       "    }\n",
       "</style>\n",
       "<table border=\"1\" class=\"dataframe\">\n",
       "  <thead>\n",
       "    <tr style=\"text-align: right;\">\n",
       "      <th></th>\n",
       "      <th>DATE</th>\n",
       "      <th>AMOUNT</th>\n",
       "      <th>CATEGORY</th>\n",
       "      <th>THIRD-PARTY</th>\n",
       "      <th>DESCRIPTION</th>\n",
       "    </tr>\n",
       "  </thead>\n",
       "  <tbody>\n",
       "    <tr>\n",
       "      <th>0</th>\n",
       "      <td>4-10-2022</td>\n",
       "      <td>1200</td>\n",
       "      <td>variable</td>\n",
       "      <td>GAD-AA</td>\n",
       "      <td>sueldo</td>\n",
       "    </tr>\n",
       "    <tr>\n",
       "      <th>1</th>\n",
       "      <td>04-10-2022</td>\n",
       "      <td>1500</td>\n",
       "      <td>variable</td>\n",
       "      <td>GAD-COT</td>\n",
       "      <td>Pago de trabajo</td>\n",
       "    </tr>\n",
       "  </tbody>\n",
       "</table>\n",
       "</div>"
      ],
      "text/plain": [
       "         DATE  AMOUNT  CATEGORY THIRD-PARTY      DESCRIPTION\n",
       "0   4-10-2022    1200  variable      GAD-AA           sueldo\n",
       "1  04-10-2022    1500  variable     GAD-COT  Pago de trabajo"
      ]
     },
     "execution_count": 52,
     "metadata": {},
     "output_type": "execute_result"
    }
   ],
   "source": [
    "incomes"
   ]
  },
  {
   "cell_type": "markdown",
   "id": "2b0b25ab-3886-4fd2-8d94-60cfbe3dbf17",
   "metadata": {},
   "source": [
    "#### Suma todas las cantidades de la columna deseada(Tiene que ser numeros)"
   ]
  },
  {
   "cell_type": "code",
   "execution_count": 54,
   "id": "e598165d-2ce6-4b74-bee6-ca53784ae4ea",
   "metadata": {},
   "outputs": [
    {
     "data": {
      "text/plain": [
       "2700"
      ]
     },
     "execution_count": 54,
     "metadata": {},
     "output_type": "execute_result"
    }
   ],
   "source": [
    "incomes['AMOUNT'].sum()"
   ]
  },
  {
   "cell_type": "code",
   "execution_count": 111,
   "id": "0e7dc969-ed74-4476-a6dc-3de34103f5f9",
   "metadata": {},
   "outputs": [],
   "source": [
    "class fwallet:\n",
    "    def __init__(self,inputs):\n",
    "        self.inputs=inputs\n",
    "        self.incomes=pd.read_csv(self.inputs['data_route']+self.inputs['incomes_filename'])\n",
    "        self.expenses=pd.read_csv(self.inputs['data_route']+self.inputs['expenses_filename'])\n",
    "        \n",
    "       \n",
    "        \n",
    "    ### Actions to perform ###\n",
    "    \n",
    "    #Add income to database\n",
    "    def add_income(self):\n",
    "        date=input(\"Date:  \")\n",
    "        amount=input(\"Amount:\")\n",
    "        category=input(\"Category: \")\n",
    "        third_party=input(\"Third_party: \")\n",
    "        description=input(\"Description: \")\n",
    "        \n",
    "        new_income=[date,amount,category,third_party,description]\n",
    "        \n",
    "        n=len(self.incomes)\n",
    "        self.incomes.loc[n]= new_income\n",
    "        \n",
    "        #sobreescribe el archivo de la base de datos csv\n",
    "        self.incomes.to_csv(self.inputs['data_route']+self.inputs['incomes_filename'],index=False)\n",
    "    #Add expense to database\n",
    "    def add_expense(self):\n",
    "        date=input(\"Date:  \")\n",
    "        amount=input(\"Amount:\")\n",
    "        category=input(\"Category: \")\n",
    "        third_party=input(\"Third_party: \")\n",
    "        description=input(\"Description: \")\n",
    "        \n",
    "        new_expense=[date,amount,category,third_party,description]\n",
    "        \n",
    "        n=len(self.expenses)\n",
    "        self.expenses.loc[n]= new_expense\n",
    "        \n",
    "        #sobreescribe el archivo de la base de datos csv\n",
    "        self.expenses.to_csv(self.inputs['data_route']+self.inputs['expenses_filename'],index=False)\n",
    "        \n",
    "\n",
    "    #Calculate the total income\n",
    "    def total_income(self):\n",
    "        total=self.incomes['AMOUNT'].sum()\n",
    "        return total\n",
    "    \n",
    "    #Calculate the total expenses\n",
    "    def total_expenses(self):\n",
    "        total=self.expenses['AMOUNT'].sum()\n",
    "        return total\n",
    "    \n",
    "    #Calculate balance=income - expense\n",
    "    def balance(self):\n",
    "        balance=self.total_income()-self.total_expenses()\n",
    "        return balance\n",
    "    \n",
    "    #Create financial report using the functions above\n",
    "    def financial_report(self):\n",
    "        print('\\n'+'Financial Report'+'\\n')\n",
    "        print(f'Total income: ${self.total_income()}')\n",
    "        print(f'Total expense: ${self.total_expenses()}')\n",
    "        print(f'Balance: ${self.balance()}')\n",
    "        if self.balance()>0:\n",
    "            print('Dont forgen to save some of your left-off money! great job!')\n",
    "        else:\n",
    "            print('Be responsible with your finance, and find a low rate loan!')\n",
    "    "
   ]
  },
  {
   "cell_type": "code",
   "execution_count": 112,
   "id": "d5cfeb20-ab2a-4324-8468-db5cebd259a5",
   "metadata": {},
   "outputs": [],
   "source": [
    "inputs={\n",
    "    'data_route' : '../data/',\n",
    "    'expenses_filename' : 'expenses.csv',\n",
    "    'incomes_filename' : 'incomes.csv'\n",
    "}"
   ]
  },
  {
   "cell_type": "code",
   "execution_count": 113,
   "id": "f1606024-fcd0-401a-a1a3-2cd4051a9835",
   "metadata": {},
   "outputs": [],
   "source": [
    "cartera=fwallet(inputs)"
   ]
  },
  {
   "cell_type": "code",
   "execution_count": 101,
   "id": "c03e787f-fbc8-4cb2-a50a-6248a69f7f62",
   "metadata": {},
   "outputs": [],
   "source": [
    "#cartera.add_expense()"
   ]
  },
  {
   "cell_type": "code",
   "execution_count": 114,
   "id": "00fc51ff-04d3-44f1-88d2-2b0755555afc",
   "metadata": {},
   "outputs": [
    {
     "name": "stdout",
     "output_type": "stream",
     "text": [
      "\n",
      "Financial Report\n",
      "\n",
      "Total income: $2200\n",
      "Total expense: $230\n",
      "Balance: $1970\n",
      "Dont forgen to save some of your left-off money! great job!\n"
     ]
    }
   ],
   "source": [
    "cartera.financial_report()"
   ]
  },
  {
   "cell_type": "code",
   "execution_count": null,
   "id": "2bfa48bf-c87f-4f02-ac90-ffe69cbdb981",
   "metadata": {},
   "outputs": [],
   "source": []
  },
  {
   "cell_type": "code",
   "execution_count": null,
   "id": "7f7f3d9b-a020-4022-aac3-a16a6634c321",
   "metadata": {},
   "outputs": [],
   "source": []
  }
 ],
 "metadata": {
  "kernelspec": {
   "display_name": "Python 3 (ipykernel)",
   "language": "python",
   "name": "python3"
  },
  "language_info": {
   "codemirror_mode": {
    "name": "ipython",
    "version": 3
   },
   "file_extension": ".py",
   "mimetype": "text/x-python",
   "name": "python",
   "nbconvert_exporter": "python",
   "pygments_lexer": "ipython3",
   "version": "3.9.12"
  }
 },
 "nbformat": 4,
 "nbformat_minor": 5
}
